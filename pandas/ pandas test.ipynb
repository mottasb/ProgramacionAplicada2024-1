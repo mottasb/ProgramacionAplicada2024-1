{
 "cells": [
  {
   "cell_type": "code",
   "execution_count": 3,
   "id": "d132630c",
   "metadata": {},
   "outputs": [
    {
     "name": "stdout",
     "output_type": "stream",
     "text": [
      "0      Spark\n",
      "1    PySpark\n",
      "2     Hadoop\n",
      "3     Python\n",
      "4     pandas\n",
      "5     Oracle\n",
      "dtype: object\n"
     ]
    }
   ],
   "source": [
    "import pandas as pd\n",
    "#pd.Series( [\"Spark\",\"PySpark\",\"Hadoop\",\"Python\",\"pandas\",\"Oracle\"] )\n",
    "courses = pd.Series( [\"Spark\",\"PySpark\",\"Hadoop\",\"Python\",\"pandas\",\"Oracle\"] ) \n",
    "print(courses)"
   ]
  },
  {
   "cell_type": "code",
   "execution_count": 9,
   "id": "df2a63fb",
   "metadata": {},
   "outputs": [
    {
     "name": "stdout",
     "output_type": "stream",
     "text": [
      "Python\n"
     ]
    }
   ],
   "source": [
    "print(courses[3])"
   ]
  },
  {
   "cell_type": "code",
   "execution_count": 10,
   "id": "97f6f879",
   "metadata": {},
   "outputs": [
    {
     "name": "stdout",
     "output_type": "stream",
     "text": [
      "0      Spark\n",
      "1    PySpark\n",
      "2     Hadoop\n",
      "3     Python\n",
      "dtype: object\n"
     ]
    }
   ],
   "source": [
    "print(courses[:4])"
   ]
  },
  {
   "cell_type": "code",
   "execution_count": 11,
   "id": "8b992351",
   "metadata": {},
   "outputs": [
    {
     "name": "stdout",
     "output_type": "stream",
     "text": [
      "0      Spark\n",
      "1    PySpark\n",
      "dtype: object\n"
     ]
    }
   ],
   "source": [
    "print(courses[:-4])"
   ]
  },
  {
   "cell_type": "code",
   "execution_count": 12,
   "id": "6addf192",
   "metadata": {},
   "outputs": [
    {
     "name": "stdout",
     "output_type": "stream",
     "text": [
      "2    Hadoop\n",
      "3    Python\n",
      "4    pandas\n",
      "5    Oracle\n",
      "dtype: object\n"
     ]
    }
   ],
   "source": [
    "print(courses[-4:])"
   ]
  },
  {
   "cell_type": "code",
   "execution_count": 14,
   "id": "2fe2e324",
   "metadata": {},
   "outputs": [
    {
     "name": "stdout",
     "output_type": "stream",
     "text": [
      "element0      Spark\n",
      "element1    PySpark\n",
      "element2     Hadoop\n",
      "element3     Python\n",
      "element4     pandas\n",
      "element5     Oracle\n",
      "dtype: object\n"
     ]
    }
   ],
   "source": [
    "# Accessing Pandas Series values by Using Labels\n",
    "c = ( [\"Spark\",\"PySpark\",\"Hadoop\",\"Python\",\"pandas\",\"Oracle\"] )\n",
    "courses = pd.Series(c, index= [\"element0\",\"element1\",\"element2\",\"element3\",\"element4\",\"element5\"] )\n",
    "print(courses)"
   ]
  },
  {
   "cell_type": "code",
   "execution_count": null,
   "id": "569a0917",
   "metadata": {},
   "outputs": [],
   "source": []
  }
 ],
 "metadata": {
  "kernelspec": {
   "display_name": "Python 3 (ipykernel)",
   "language": "python",
   "name": "python3"
  },
  "language_info": {
   "codemirror_mode": {
    "name": "ipython",
    "version": 3
   },
   "file_extension": ".py",
   "mimetype": "text/x-python",
   "name": "python",
   "nbconvert_exporter": "python",
   "pygments_lexer": "ipython3",
   "version": "3.11.5"
  }
 },
 "nbformat": 4,
 "nbformat_minor": 5
}
